{
 "cells": [
  {
   "cell_type": "markdown",
   "metadata": {},
   "source": [
    "##Read in data for the first time"
   ]
  },
  {
   "cell_type": "markdown",
   "metadata": {},
   "source": [
    "##Bring in libraries and credentials"
   ]
  },
  {
   "cell_type": "code",
   "execution_count": 1,
   "metadata": {
    "collapsed": false
   },
   "outputs": [],
   "source": [
    "import datetime\n",
    "import pandas as pd\n",
    "import numpy as np\n",
    "import plotly\n",
    "import plotly.plotly as py\n",
    "import plotly.tools as tls\n",
    "from plotly.graph_objs import *\n",
    "import time \n",
    "Tokens = tls.get_credentials_file()['stream_ids']"
   ]
  },
  {
   "cell_type": "code",
   "execution_count": 2,
   "metadata": {
    "collapsed": false
   },
   "outputs": [],
   "source": [
    "AllData=pd.read_csv('K:\\Rainshelter\\Wheat 2015-16\\LoggedData\\RainShelterAlpha_CS650.dat', #specify file path for data to read in\n",
    "                         parse_dates=True, #tell the function to parse date columns to datetime formats\n",
    "                         dayfirst=True, #tell the function that the day is before the year in the data i.e format='%d/%m/%Y %H:%M'\n",
    "                         skiprows = [0,2,3], #leave out rows 1, 3 and 4 which have redundant information\n",
    "                         index_col = 0, #Use the first column, which is Date, as an index\n",
    "                         na_values = 'NAN')"
   ]
  },
  {
   "cell_type": "markdown",
   "metadata": {},
   "source": [
    "##Apply indexing for the first time"
   ]
  },
  {
   "cell_type": "code",
   "execution_count": 3,
   "metadata": {
    "collapsed": false
   },
   "outputs": [],
   "source": [
    "#Bring in index data\n",
    "AllDataIndex=pd.read_csv('C:\\GitHubRepos\\RainShelterWheat\\IndexFiles\\SoilWaterAndTempIndex.csv',\n",
    "                         index_col = 0)\n",
    "#Apply indexes to data\n",
    "AllDataTransposed = AllData.transpose()\n",
    "AllDataIndexed = pd.concat([AllDataIndex,AllDataTransposed], axis=1)\n",
    "AllDataIndexed.index.name='ColumnHeader'\n",
    "AllDataIndexed.set_index(['Measurement','Depth','Nitrogen','Irrigation','Plot','Sensor', 'MUX', 'Port','Units','Summary','Block','Treatment'], \n",
    "                        append=False, inplace=True)\n",
    "AllDataIndexed.sort_index(inplace=True)\n",
    "FieldData=AllDataIndexed.transpose()\n",
    "FieldData.index = FieldData.index.to_datetime()  ## for some reason the concat function changes the data type on the date indes so need to change it back\n",
    "\n",
    "#Record the last row number read in\n",
    "LastRow = FieldData.index.size\n",
    "np.save('LastRow.npy',LastRow)\n",
    "FieldData.to_pickle('.\\FieldData.pkl')"
   ]
  },
  {
   "cell_type": "markdown",
   "metadata": {},
   "source": [
    "##Function to read in fresh data and update status files"
   ]
  },
  {
   "cell_type": "code",
   "execution_count": 4,
   "metadata": {
    "collapsed": false
   },
   "outputs": [],
   "source": [
    "#Bring in date recorded since last update\n",
    "def UpdataDataFrame():\n",
    "    #Bring in previous status files\n",
    "    LastRead = np.load('.\\LastRow.npy')\n",
    "    FieldData = pd.read_pickle('.\\FieldData.pkl')\n",
    "    #Bring in index data\n",
    "    AllDataIndex=pd.read_csv('C:\\GitHubRepos\\RainShelterWheat\\IndexFiles\\SoilWaterAndTempIndex.csv',\n",
    "                         index_col = 0)\n",
    "    \n",
    "    #Bring in fresh data\n",
    "    StartRead = LastRead + 4\n",
    "    Skips = [0,2,3] + list(range(4,StartRead))\n",
    "    FreshData=pd.read_csv('K:\\Rainshelter\\Wheat 2015-16\\LoggedData\\RainShelterAlpha_CS650.dat', #specify file path for data to read in\n",
    "                             parse_dates=True, #tell the function to parse date columns to datetime formats\n",
    "                             dayfirst=True, #tell the function that the day is before the year in the data i.e format='%d/%m/%Y %H:%M'\n",
    "                             skiprows = Skips, #rows that have already be read\n",
    "                             index_col = 0, #Use the first column, which is Date, as an index\n",
    "                             na_values = 'NAN')\n",
    "\n",
    "    #Apply indexes to fresh data\n",
    "    FreshDataTransposed = FreshData.transpose()\n",
    "    FreshDataIndexed = pd.concat([AllDataIndex,FreshDataTransposed], axis=1)\n",
    "    FreshDataIndexed.index.name='ColumnHeader'\n",
    "    FreshDataIndexed.set_index(['Measurement','Depth','Nitrogen','Irrigation','Plot','Sensor', 'MUX', 'Port','Units','Summary','Block','Treatment'], \n",
    "                            append=False, inplace=True)\n",
    "    FreshDataIndexed.sort_index(inplace=True)\n",
    "    NewData=FreshDataIndexed.transpose()\n",
    "    \n",
    "    #Join fresh data onto existing data\n",
    "    FieldData = pd.concat([FieldData,NewData])\n",
    "    FieldData.sort_index(inplace = True)\n",
    "    \n",
    "    #Update status files\n",
    "    LastRow = FieldData.index.size\n",
    "    np.save('LastRow.npy',LastRow)\n",
    "    FieldData.to_pickle('.\\FieldData.pkl')\n",
    "    return FieldData"
   ]
  },
  {
   "cell_type": "markdown",
   "metadata": {},
   "source": [
    "##Create object for each treament"
   ]
  },
  {
   "cell_type": "code",
   "execution_count": 5,
   "metadata": {
    "collapsed": false
   },
   "outputs": [],
   "source": [
    "#Treatment class constructor\n",
    "class Treatment(object):\n",
    "    def __init__(self, Number, Irrigation, Nitrogen):\n",
    "        self.Number=Number\n",
    "        self.Irrigation=Irrigation\n",
    "        self.Nitrogen=Nitrogen\n",
    "        self.streamID=Tokens[number]\n",
    "        self.Label= Irrigation + ' ' + Nitrogen + 'N'\n",
    "        self.Trace = Scatter(x=[],y=[], name = self.Label,\n",
    "                stream = Stream(token=self.streamID)\n",
    "                )\n",
    "        self.Stream = py.Stream(self.streamID)\n",
    "\n",
    "#Creat class with treatment data\n",
    "Treatments = []\n",
    "Colors = ['red','blue','green']\n",
    "NRates = ['0','50','250']\n",
    "IRates = ['Dryland','Irrigated']\n",
    "Lines = ['solid','dash']\n",
    "number = 0\n",
    "LinePos = 0\n",
    "for I in IRates:\n",
    "    ColorPos = 0\n",
    "    for N in NRates:\n",
    "        Treatments.append(Treatment(number, I, N))\n",
    "        Treatments[number].Trace.line = Line(color = Colors[ColorPos], dash = Lines[LinePos])\n",
    "        ColorPos +=1\n",
    "        number += 1\n",
    "    LinePos+=1\n",
    "    "
   ]
  },
  {
   "cell_type": "markdown",
   "metadata": {},
   "source": [
    "##Build base Plotly Graph"
   ]
  },
  {
   "cell_type": "code",
   "execution_count": 20,
   "metadata": {
    "collapsed": false,
    "scrolled": false
   },
   "outputs": [
    {
     "ename": "HTTPError",
     "evalue": "504 Server Error: GATEWAY_TIMEOUT for url: https://plot.ly/clientresp",
     "output_type": "error",
     "traceback": [
      "\u001b[1;31m---------------------------------------------------------------------------\u001b[0m",
      "\u001b[1;31mHTTPError\u001b[0m                                 Traceback (most recent call last)",
      "\u001b[1;32m<ipython-input-20-4d1f54f4cb2d>\u001b[0m in \u001b[0;36m<module>\u001b[1;34m()\u001b[0m\n\u001b[0;32m     13\u001b[0m \u001b[0mFig\u001b[0m \u001b[1;33m=\u001b[0m \u001b[0mFigure\u001b[0m\u001b[1;33m(\u001b[0m\u001b[0mdata\u001b[0m\u001b[1;33m=\u001b[0m\u001b[0mGraphData\u001b[0m\u001b[1;33m,\u001b[0m \u001b[0mlayout\u001b[0m\u001b[1;33m=\u001b[0m\u001b[0mlayout\u001b[0m\u001b[1;33m)\u001b[0m\u001b[1;33m\u001b[0m\u001b[0m\n\u001b[0;32m     14\u001b[0m \u001b[1;33m\u001b[0m\u001b[0m\n\u001b[1;32m---> 15\u001b[1;33m \u001b[0munique_url\u001b[0m \u001b[1;33m=\u001b[0m \u001b[0mpy\u001b[0m\u001b[1;33m.\u001b[0m\u001b[0mplot\u001b[0m\u001b[1;33m(\u001b[0m\u001b[0mFig\u001b[0m\u001b[1;33m,\u001b[0m \u001b[0mfilename\u001b[0m \u001b[1;33m=\u001b[0m \u001b[1;34m'RainShelterWheat'\u001b[0m\u001b[1;33m)\u001b[0m\u001b[1;33m\u001b[0m\u001b[0m\n\u001b[0m",
      "\u001b[1;32mC:\\Users\\tdr\\Anaconda3\\lib\\site-packages\\plotly\\plotly\\plotly.py\u001b[0m in \u001b[0;36mplot\u001b[1;34m(figure_or_data, validate, **plot_options)\u001b[0m\n\u001b[0;32m    239\u001b[0m \u001b[1;33m\u001b[0m\u001b[0m\n\u001b[0;32m    240\u001b[0m     \u001b[0mplot_options\u001b[0m \u001b[1;33m=\u001b[0m \u001b[0m_plot_option_logic\u001b[0m\u001b[1;33m(\u001b[0m\u001b[0mplot_options\u001b[0m\u001b[1;33m)\u001b[0m\u001b[1;33m\u001b[0m\u001b[0m\n\u001b[1;32m--> 241\u001b[1;33m     \u001b[0mres\u001b[0m \u001b[1;33m=\u001b[0m \u001b[0m_send_to_plotly\u001b[0m\u001b[1;33m(\u001b[0m\u001b[0mfigure\u001b[0m\u001b[1;33m,\u001b[0m \u001b[1;33m**\u001b[0m\u001b[0mplot_options\u001b[0m\u001b[1;33m)\u001b[0m\u001b[1;33m\u001b[0m\u001b[0m\n\u001b[0m\u001b[0;32m    242\u001b[0m     \u001b[1;32mif\u001b[0m \u001b[0mres\u001b[0m\u001b[1;33m[\u001b[0m\u001b[1;34m'error'\u001b[0m\u001b[1;33m]\u001b[0m \u001b[1;33m==\u001b[0m \u001b[1;34m''\u001b[0m\u001b[1;33m:\u001b[0m\u001b[1;33m\u001b[0m\u001b[0m\n\u001b[0;32m    243\u001b[0m         \u001b[1;32mif\u001b[0m \u001b[0mplot_options\u001b[0m\u001b[1;33m[\u001b[0m\u001b[1;34m'auto_open'\u001b[0m\u001b[1;33m]\u001b[0m\u001b[1;33m:\u001b[0m\u001b[1;33m\u001b[0m\u001b[0m\n",
      "\u001b[1;32mC:\\Users\\tdr\\Anaconda3\\lib\\site-packages\\plotly\\plotly\\plotly.py\u001b[0m in \u001b[0;36m_send_to_plotly\u001b[1;34m(figure, **plot_options)\u001b[0m\n\u001b[0;32m   1398\u001b[0m     r = requests.post(url, data=payload,\n\u001b[0;32m   1399\u001b[0m                       verify=get_config()['plotly_ssl_verification'])\n\u001b[1;32m-> 1400\u001b[1;33m     \u001b[0mr\u001b[0m\u001b[1;33m.\u001b[0m\u001b[0mraise_for_status\u001b[0m\u001b[1;33m(\u001b[0m\u001b[1;33m)\u001b[0m\u001b[1;33m\u001b[0m\u001b[0m\n\u001b[0m\u001b[0;32m   1401\u001b[0m     \u001b[0mr\u001b[0m \u001b[1;33m=\u001b[0m \u001b[0mjson\u001b[0m\u001b[1;33m.\u001b[0m\u001b[0mloads\u001b[0m\u001b[1;33m(\u001b[0m\u001b[0mr\u001b[0m\u001b[1;33m.\u001b[0m\u001b[0mtext\u001b[0m\u001b[1;33m)\u001b[0m\u001b[1;33m\u001b[0m\u001b[0m\n\u001b[0;32m   1402\u001b[0m \u001b[1;33m\u001b[0m\u001b[0m\n",
      "\u001b[1;32mC:\\Users\\tdr\\Anaconda3\\lib\\site-packages\\requests\\models.py\u001b[0m in \u001b[0;36mraise_for_status\u001b[1;34m(self)\u001b[0m\n\u001b[0;32m    835\u001b[0m \u001b[1;33m\u001b[0m\u001b[0m\n\u001b[0;32m    836\u001b[0m         \u001b[1;32mif\u001b[0m \u001b[0mhttp_error_msg\u001b[0m\u001b[1;33m:\u001b[0m\u001b[1;33m\u001b[0m\u001b[0m\n\u001b[1;32m--> 837\u001b[1;33m             \u001b[1;32mraise\u001b[0m \u001b[0mHTTPError\u001b[0m\u001b[1;33m(\u001b[0m\u001b[0mhttp_error_msg\u001b[0m\u001b[1;33m,\u001b[0m \u001b[0mresponse\u001b[0m\u001b[1;33m=\u001b[0m\u001b[0mself\u001b[0m\u001b[1;33m)\u001b[0m\u001b[1;33m\u001b[0m\u001b[0m\n\u001b[0m\u001b[0;32m    838\u001b[0m \u001b[1;33m\u001b[0m\u001b[0m\n\u001b[0;32m    839\u001b[0m     \u001b[1;32mdef\u001b[0m \u001b[0mclose\u001b[0m\u001b[1;33m(\u001b[0m\u001b[0mself\u001b[0m\u001b[1;33m)\u001b[0m\u001b[1;33m:\u001b[0m\u001b[1;33m\u001b[0m\u001b[0m\n",
      "\u001b[1;31mHTTPError\u001b[0m: 504 Server Error: GATEWAY_TIMEOUT for url: https://plot.ly/clientresp"
     ]
    }
   ],
   "source": [
    "GraphData = Data([Treatments[0].Trace,\n",
    "                  Treatments[1].Trace,\n",
    "                  Treatments[2].Trace,\n",
    "                  Treatments[3].Trace,\n",
    "                  Treatments[4].Trace,\n",
    "                  Treatments[5].Trace\n",
    "                 ])\n",
    "\n",
    "layout = Layout(title='Wheat Soil Water Deficits',\n",
    "                xaxis=XAxis(title='Date'),\n",
    "                yaxis=YAxis(title='Soil Water Deficit (mm)'))\n",
    "\n",
    "Fig = Figure(data=GraphData, layout=layout)\n",
    "\n",
    "unique_url = py.plot(Fig, filename = 'RainShelterWheat')"
   ]
  },
  {
   "cell_type": "code",
   "execution_count": null,
   "metadata": {
    "collapsed": false
   },
   "outputs": [],
   "source": [
    "for T in Treatments:\n",
    "    print(T.streamID)"
   ]
  },
  {
   "cell_type": "markdown",
   "metadata": {},
   "source": [
    "##Function to Updata data frame and traces and stream to Plotly"
   ]
  },
  {
   "cell_type": "code",
   "execution_count": 6,
   "metadata": {
    "collapsed": false
   },
   "outputs": [],
   "source": [
    "def Update():\n",
    "    #Update Data Frame with data that has been logged since last update\n",
    "    FieldData = UpdataDataFrame()\n",
    "    #Calculate treatment means omitting data prior to 2014-11-05 08:00:00 to avoid NaN values\n",
    "    DataMeans =  FieldData.ix['2015-10-10':].groupby(level=['Measurement','Depth','Irrigation', 'Nitrogen'],axis=1).mean()\n",
    "    DataMeans =  DataMeans.dropna(axis=1) #For some reason it keeps non valid combinations in so need to extract with this function\n",
    "    DataMeans = DataMeans.resample('4H', how='last')\n",
    "    \n",
    "    #Calculate the water content of the soil profile by multiplying the volumetric water content by each layers\n",
    "    #depth and summing.  The 0-15 layers are divided by 2 to average the two readings\n",
    "    ProfileWater = DataMeans.VolumetricWaterContent.ix[:,'D1I'] * 150/2 + \\\n",
    "                   DataMeans.VolumetricWaterContent.ix[:,'D1B'] * 150/2 + \\\n",
    "                   DataMeans.VolumetricWaterContent.ix[:,'D2'] * 150 + \\\n",
    "                   DataMeans.VolumetricWaterContent.ix[:,'D3'] * 300 + \\\n",
    "                   DataMeans.VolumetricWaterContent.ix[:,'D4'] * 300 + \\\n",
    "                   DataMeans.VolumetricWaterContent.ix[:,'D5'] * 300 + \\\n",
    "                   DataMeans.VolumetricWaterContent.ix[:,'D6'] * 300 + \\\n",
    "                   DataMeans.VolumetricWaterContent.ix[:,'D7'] * 300\n",
    "\n",
    "    FieldCapacity = ProfileWater.resample('D', how='max')\n",
    "    FieldCapacity = FieldCapacity.ix['2015-10-14'] +30 # I would have though this would return a data frame with a single row but instead it returns a series with a multiindex in columns\n",
    "    SoilWaterDeficit = -(FieldCapacity - ProfileWater)    # This calculation only works because field capacity is a multi index series\n",
    "\n",
    "    X = SoilWaterDeficit.index\n",
    "    for Treatment in Treatments:\n",
    "        Treatment.Stream.open()\n",
    "        Treatment.Stream.write({'x':X,'y':SoilWaterDeficit.ix[:,(Treatment.Irrigation,Treatment.Nitrogen)]})\n",
    "        Treatment.Stream.close()"
   ]
  },
  {
   "cell_type": "markdown",
   "metadata": {},
   "source": [
    "##Continious update"
   ]
  },
  {
   "cell_type": "code",
   "execution_count": null,
   "metadata": {
    "collapsed": false
   },
   "outputs": [],
   "source": [
    "while True:\n",
    "    try:\n",
    "        Update() #get fresh data and send to graph\n",
    "    except:\n",
    "        retrys = 1\n",
    "        print('Attempt to stream data failed')\n",
    "        while retrys < 5: ##retry connecting 4 times\n",
    "            time.sleep(160)  ##wait 2 min \n",
    "            try:\n",
    "                Update() # have another go\n",
    "            except:\n",
    "                print('Retry' + str(retrys) + ' failed')\n",
    "                retrys +=1 #increment try counter and try again\n",
    "            else:\n",
    "                retrys = 6 #set try counter so loop is exited\n",
    "    time.sleep(14400)  ## update again in an hours time"
   ]
  },
  {
   "cell_type": "markdown",
   "metadata": {},
   "source": [
    "##One off update"
   ]
  },
  {
   "cell_type": "code",
   "execution_count": 8,
   "metadata": {
    "collapsed": false
   },
   "outputs": [],
   "source": [
    "Update()"
   ]
  }
 ],
 "metadata": {
  "kernelspec": {
   "display_name": "Python 2",
   "language": "python",
   "name": "python2"
  },
  "language_info": {
   "codemirror_mode": {
    "name": "ipython",
    "version": 2
   },
   "file_extension": ".py",
   "mimetype": "text/x-python",
   "name": "python",
   "nbconvert_exporter": "python",
   "pygments_lexer": "ipython2",
   "version": "2.7.12"
  }
 },
 "nbformat": 4,
 "nbformat_minor": 0
}
